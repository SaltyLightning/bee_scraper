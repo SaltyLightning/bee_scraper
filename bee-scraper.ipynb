{
 "cells": [
  {
   "attachments": {},
   "cell_type": "markdown",
   "metadata": {},
   "source": [
    "# Scraping the Babylon Bee\n",
    "This notebook will walk through the process of scraping the babylon bee\n",
    "\n",
    "Please set up a [virtual enviroment](https://docs.python.org/3/library/venv.html)  and install the required packages first."
   ]
  },
  {
   "attachments": {},
   "cell_type": "markdown",
   "metadata": {},
   "source": [
    "First, we'll set up our selenium drivers for scraping"
   ]
  },
  {
   "cell_type": "code",
   "execution_count": 1,
   "metadata": {},
   "outputs": [
    {
     "name": "stderr",
     "output_type": "stream",
     "text": [
      "C:\\Users\\Xavier Gray\\AppData\\Local\\Temp\\ipykernel_28948\\3996977151.py:8: DeprecationWarning: use options instead of chrome_options\n",
      "  driver = webdriver.Chrome(chrome_options=options)\n"
     ]
    }
   ],
   "source": [
    "from selenium import webdriver\n",
    "from selenium.webdriver.chrome.service import Service as BraveService\n",
    "from webdriver_manager.chrome import ChromeDriverManager\n",
    "from webdriver_manager.core.utils import ChromeType\n",
    "\n",
    "options = webdriver.ChromeOptions()\n",
    "options.add_argument('headless')\n",
    "driver = webdriver.Chrome(chrome_options=options)"
   ]
  },
  {
   "cell_type": "code",
   "execution_count": 2,
   "metadata": {},
   "outputs": [
    {
     "data": {
      "text/plain": [
       "19"
      ]
     },
     "execution_count": 2,
     "metadata": {},
     "output_type": "execute_result"
    }
   ],
   "source": [
    "import random\n",
    "import csv\n",
    "\n",
    "out_csv = \"bee_\" + str(random.randint(0, 10000)) + \".csv\"\n",
    "csv_file = open(out_csv, \"w\", newline='', encoding=\"utf-8\")\n",
    "writer = csv.writer(csv_file)\n",
    "writer.writerow(['prompt', 'completion'])"
   ]
  },
  {
   "cell_type": "code",
   "execution_count": 3,
   "metadata": {},
   "outputs": [],
   "source": [
    "urls = []\n",
    "for i in range(1,2):\n",
    "    urls.append(\"https://babylonbee.com/news?sort=greatest-hits&page=\" + str(i))"
   ]
  },
  {
   "cell_type": "code",
   "execution_count": 11,
   "metadata": {},
   "outputs": [],
   "source": [
    "parsed_headlines = []"
   ]
  },
  {
   "cell_type": "code",
   "execution_count": 12,
   "metadata": {},
   "outputs": [
    {
     "name": "stdout",
     "output_type": "stream",
     "text": [
      "https://babylonbee.com/news?sort=greatest-hits&page=1\n",
      "\n",
      "            Answer These 3 Simple Questions And We'll Assign You A PERFECT Life Verse\n",
      "        \n",
      "\n",
      "            Trump: 'I Have Done More For Christianity Than Jesus'\n",
      "        \n",
      "\n",
      "            Congress To Be Replaced With Room Full Of Monkeys Throwing Feces\n",
      "        \n",
      "\n",
      "            Motorcyclist Who Identifies As Bicyclist Sets Cycling World Record\n",
      "        \n",
      "\n",
      "            Trump Announces He Has Hidden 5 Golden Tickets Among Stimulus Checks\n",
      "        \n",
      "\n",
      "            NBA Players Wear Special Lace Collars To Honor Ruth Bader Ginsburg\n",
      "        \n",
      "\n",
      "            In Bold Anti-Trump Statement, Pelosi Rips Up Bible\n",
      "        \n",
      "\n",
      "            Biden Cuts Hole In Mask So He Can Still Sniff People's Hair\n",
      "        \n",
      "\n",
      "            Biden: 'I Am The Only Candidate Who Can Beat Ronald Reagan'\n",
      "        \n",
      "\n",
      "            Man Identifying As 6-Year-Old Crushes Game-Winning Homer In Tee-Ball Championship\n",
      "        \n",
      "\n",
      "            Fisher-Price Releases 'My First Peaceful Protest' Playset With House You Can Actually Burn Down\n",
      "        \n",
      "\n",
      "            Cracker Jack Changes Name To More Politically Correct Caucasian Jack\n",
      "        \n",
      "____________________\n",
      "\n"
     ]
    }
   ],
   "source": [
    "from bs4 import BeautifulSoup \n",
    "import requests\n",
    "\n",
    "for url in urls:\n",
    "    # Open the page our virtual browser\n",
    "    driver.get(url)\n",
    "    html = driver.page_source\n",
    "\n",
    "    soup = BeautifulSoup(html, 'html.parser')\n",
    "\n",
    "    # get the headlines\n",
    "    headlines = soup.find_all('div', class_=['bee-title-sm', 'bee-primary-featured-title-lg', 'bee-title-xs-base'])\n",
    "    headlines += soup.find_all('span', class_=['bee-title-sm', 'bee-primary-featured-title-lg', 'bee-title-xs-base'])\n",
    "\n",
    "    print(url)\n",
    "\n",
    "    # print the headlines\n",
    "    for headline in headlines:\n",
    "        # Skip duplicate and empty headlines\n",
    "        if headline in parsed_headlines or headline == []:\n",
    "            continue\n",
    "\n",
    "        # Save this headine\n",
    "        parsed_headlines.append(headline)\n",
    "\n",
    "        # Get the text of the headline\n",
    "        headline_text = headline.text\n",
    "        # Sometimes the headline text is stored in the body instead of the text\n",
    "        if headline_text == None:\n",
    "            headline_text = headline.body\n",
    "        print(headline_text)\n",
    "\n",
    "\n",
    "        # Find the link to the article itself\n",
    "        parent = headline.parent\n",
    "        while parent != None and parent.name != 'a':\n",
    "            parent = parent.parent\n",
    "        if parent == None:\n",
    "            continue\n",
    "        article_link = parent.get('href')\n",
    "\n",
    "        # Grab the full text of the article\n",
    "        article = requests.get(\"https://babylonbee.com\" + article_link)\n",
    "        article_soup = BeautifulSoup(article.text, 'html.parser')\n",
    "        article_content = article_soup.find('div', class_='text-lg')\n",
    "        \n",
    "        # If the link we followed has no article text, skip it\n",
    "        if article_content == None:\n",
    "            continue\n",
    "        \n",
    "        # Clean up the text\n",
    "        article_text_split = article_content.text.split(\"\\n\")\n",
    "        article_text = article_text_split[1]\n",
    "        if article_text == \"\":\n",
    "            continue\n",
    "\n",
    "        # write the text out to a file\n",
    "        writer.writerow([headline_text.strip(), article_text.strip()])\n",
    "    # Seperator for our output\n",
    "    print(\"____________________\\n\")"
   ]
  },
  {
   "attachments": {},
   "cell_type": "markdown",
   "metadata": {},
   "source": [
    "# For our example, I will use the pretrained model on OpenAI\n"
   ]
  },
  {
   "cell_type": "code",
   "execution_count": 14,
   "metadata": {},
   "outputs": [],
   "source": [
    "import openai\n",
    "comp = openai.Completion.create(\n",
    "    model=\"davinci:ft-electric-pipelines-2023-01-13-01-57-44\",\n",
    "    prompt=\"Associate Pastor Ascends To Glory After Perfect Morning Announcement Delivery \",\n",
    "    )"
   ]
  },
  {
   "cell_type": "code",
   "execution_count": 15,
   "metadata": {},
   "outputs": [
    {
     "name": "stdout",
     "output_type": "stream",
     "text": [
      "{\n",
      "  \"choices\": [\n",
      "    {\n",
      "      \"finish_reason\": \"length\",\n",
      "      \"index\": 0,\n",
      "      \"logprobs\": null,\n",
      "      \"text\": \"\\u00a0WILTON, CT \\u2014 After years of faithful service as an associate pastor\"\n",
      "    }\n",
      "  ],\n",
      "  \"created\": 1676138374,\n",
      "  \"id\": \"cmpl-6ioRqoFQluFo4TcZQENZMBGzkQrZV\",\n",
      "  \"model\": \"davinci:ft-electric-pipelines-2023-01-13-01-57-44\",\n",
      "  \"object\": \"text_completion\",\n",
      "  \"usage\": {\n",
      "    \"completion_tokens\": 16,\n",
      "    \"prompt_tokens\": 14,\n",
      "    \"total_tokens\": 30\n",
      "  }\n",
      "}\n"
     ]
    }
   ],
   "source": [
    "print(comp)"
   ]
  }
 ],
 "metadata": {
  "kernelspec": {
   "display_name": "venv",
   "language": "python",
   "name": "python3"
  },
  "language_info": {
   "codemirror_mode": {
    "name": "ipython",
    "version": 3
   },
   "file_extension": ".py",
   "mimetype": "text/x-python",
   "name": "python",
   "nbconvert_exporter": "python",
   "pygments_lexer": "ipython3",
   "version": "3.10.10"
  },
  "orig_nbformat": 4,
  "vscode": {
   "interpreter": {
    "hash": "3dfe61e7a0a25731b03fa226775b7b4be60f951cdde5caad599919cef7365b42"
   }
  }
 },
 "nbformat": 4,
 "nbformat_minor": 2
}
